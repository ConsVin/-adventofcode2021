{
 "cells": [
  {
   "cell_type": "markdown",
   "metadata": {},
   "source": [
    "# Brute force"
   ]
  },
  {
   "cell_type": "code",
   "execution_count": 83,
   "metadata": {},
   "outputs": [
    {
     "name": "stdout",
     "output_type": "stream",
     "text": [
      "Initial Stage : [1 1 1 1 1 1 1 4 1 2 1 1 4 1 1 1 5 1 1 1 1 1 1 1 1 1 1 1 1 5 1 1 1 1 3 1 1\n",
      " 2 1 2 1 3 3 4 1 4 1 1 3 1 1 5 1 1 1 1 4 1 1 5 1 1 1 4 1 5 1 1 1 3 1 1 5 3\n",
      " 1 1 1 1 1 4 1 1 1 1 1 2 4 1 1 1 1 4 1 2 2 1 1 1 3 1 2 5 1 4 1 1 1 3 1 1 4\n",
      " 1 1 1 1 1 1 1 4 1 1 4 1 1 1 1 1 1 1 2 1 1 5 1 1 1 4 1 1 5 1 1 5 3 3 5 3 1\n",
      " 1 1 4 1 1 1 1 1 1 5 3 1 2 1 1 1 4 1 3 1 5 1 1 2 1 1 1 1 1 5 1 1 1 1 1 2 1\n",
      " 1 1 1 4 3 2 1 2 4 1 3 1 5 1 2 1 4 1 1 1 1 1 3 1 4 1 1 1 1 3 1 3 3 1 4 3 4\n",
      " 1 1 1 1 5 1 3 3 2 5 3 1 1 3 1 3 1 1 1 1 4 1 1 1 1 3 1 5 1 1 1 4 4 1 1 5 5\n",
      " 2 4 5 1 1 1 1 5 1 1 2 1 1 1 1 1 1 1 1 1 1 2 1 1 1 1 1 1 5 1 1 1 1 1 1 3 1\n",
      " 1 2 1 1]\n",
      "0 :  300 [-51  19  27  26  23   0   0   0   0]\n",
      "1 :  505 [ 19  27  26  23   0   0 -51   0 -51]\n",
      "2 :  524 [ 27  26  23   0   0 -51  19 -51  19]\n",
      "3 :  551 [ 26  23   0   0 -51  19 -24  19  27]\n",
      "4 :  577 [ 23   0   0 -51  19 -24  45  27  26]\n",
      "5 :  600 [  0   0 -51  19 -24  45  50  26  23]\n",
      "6 :  600 [  0 -51  19 -24  45  50  26  23   0]\n",
      "7 :  600 [-51  19 -24  45  50  26  23   0   0]\n",
      "8 :  805 [ 19 -24  45  50  26  23 -51   0 -51]\n",
      "9 :  824 [-24  45  50  26  23 -51  19 -51  19]\n",
      "10 :  1056 [ 45  50  26  23 -51  19 -75  19 -24]\n",
      "11 :  1101 [ 50  26  23 -51  19 -75  64 -24  45]\n",
      "12 :  1151 [ 26  23 -51  19 -75  64  26  45  50]\n",
      "13 :  1177 [ 23 -51  19 -75  64  26  71  50  26]\n",
      "14 :  1200 [-51  19 -75  64  26  71  73  26  23]\n"
     ]
    }
   ],
   "source": [
    "import numpy as np\n",
    "fname = 'input'\n",
    "\n",
    "fish_list = np.fromstring(open(fname,'r').read(),sep=',',dtype='int8')\n",
    "N = 3\n",
    "print(f\"Initial Stage : {fish_list}\")\n",
    "n_new = 0\n",
    "N_DAYS = 15\n",
    "\n",
    "def list2ages(fish_list):\n",
    "    fish_ages = np.zeros(max_age+1, dtype='int8') # Zero Counts\n",
    "    for f in fish_list:\n",
    "        fish_ages[f]+=1\n",
    "    return fish_ages\n",
    "    \n",
    "ans_list = []\n",
    "for k in range(N_DAYS):\n",
    "    fish_list -= 1\n",
    "    fish_list[fish_list<0]=6\n",
    "    fish_list = np.append(fish_list, np.ones(n_new,dtype='int8')*8)\n",
    "    n_new = np.sum([fish_list==0])\n",
    "    print(f\"{k} :  {len(fish_list)} {list2ages(fish_list)}\")\n"
   ]
  },
  {
   "cell_type": "markdown",
   "metadata": {},
   "source": [
    "# Store only fish ages"
   ]
  },
  {
   "cell_type": "code",
   "execution_count": 98,
   "metadata": {},
   "outputs": [
    {
     "name": "stdout",
     "output_type": "stream",
     "text": [
      "1743335992042\n"
     ]
    }
   ],
   "source": [
    "fname = 'input'\n",
    "fish_list = np.fromstring(open(fname,'r').read(),sep=',',dtype='uint64')\n",
    "\n",
    "max_age = 8\n",
    "fish_ages = np.zeros(max_age+1, dtype='uint64')\n",
    "for f in fish_list:\n",
    "    fish_ages[f]+=1\n",
    "n_iter=256\n",
    "for d in range(n_iter):\n",
    "    zero = fish_ages[0]\n",
    "    fish_ages[:-1]=fish_ages[1:]\n",
    "    fish_ages[ 6] += zero\n",
    "    fish_ages[ 8]  = zero\n",
    "    \n",
    "print(np.sum(fish_ages))"
   ]
  },
  {
   "cell_type": "code",
   "execution_count": 93,
   "metadata": {},
   "outputs": [
    {
     "data": {
      "text/plain": [
       "1743335992042"
      ]
     },
     "execution_count": 93,
     "metadata": {},
     "output_type": "execute_result"
    }
   ],
   "source": []
  }
 ],
 "metadata": {
  "kernelspec": {
   "display_name": "Python 3",
   "language": "python",
   "name": "python3"
  },
  "language_info": {
   "codemirror_mode": {
    "name": "ipython",
    "version": 3
   },
   "file_extension": ".py",
   "mimetype": "text/x-python",
   "name": "python",
   "nbconvert_exporter": "python",
   "pygments_lexer": "ipython3",
   "version": "3.8.3"
  }
 },
 "nbformat": 4,
 "nbformat_minor": 5
}
