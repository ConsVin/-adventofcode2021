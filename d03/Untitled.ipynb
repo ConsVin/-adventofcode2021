{
 "cells": [
  {
   "cell_type": "markdown",
   "metadata": {},
   "source": [
    "# P1\n"
   ]
  },
  {
   "cell_type": "code",
   "execution_count": 137,
   "metadata": {},
   "outputs": [
    {
     "name": "stdout",
     "output_type": "stream",
     "text": [
      "eps = 3290, gamma = 805, ans = 2648450\n"
     ]
    }
   ],
   "source": [
    "import numpy as np\n",
    "fname = 'input_a'\n",
    "with open(fname, 'r') as file:\n",
    "    data = file.read().split(\"\\n\")\n",
    "n_values,n_sym = len(data),len(data[0])\n",
    "d = np.reshape(np.array(list(''.join(data)),dtype=np.int32),(n_values,n_sym))\n",
    "def arr2int(b):\n",
    "    return b.dot(2**np.arange(b.size)[::-1])\n",
    "\n",
    "gamma_arr = (np.sum(d, axis=0)>(n_values/2)).astype(int)\n",
    "gamma = arr2int(gamma_arr)\n",
    "\n",
    "eps_arr = (np.sum(d, axis=0)<(n_values/2)).astype(int)\n",
    "eps = arr2int(eps_arr)\n",
    "ans = eps*gamma\n",
    "print(f\"eps = {eps}, gamma = {gamma}, ans = {ans}\")\n"
   ]
  },
  {
   "cell_type": "markdown",
   "metadata": {},
   "source": [
    "# P2\n"
   ]
  },
  {
   "cell_type": "code",
   "execution_count": 144,
   "metadata": {},
   "outputs": [
    {
     "name": "stdout",
     "output_type": "stream",
     "text": [
      "[0 0 1 1 0 1 0 0 1 0 0 1] => 841\n",
      "[1 1 0 1 0 0 1 1 1 0 0 0] => 3384\n",
      "[841, 3384]\n"
     ]
    },
    {
     "data": {
      "text/plain": [
       "2845944"
      ]
     },
     "execution_count": 144,
     "metadata": {},
     "output_type": "execute_result"
    }
   ],
   "source": [
    "def solve_p2(d, t = 1 ):\n",
    "    dp = d*2-1\n",
    "    n_col = len(dp.T)    \n",
    "    for c in range(n_col):\n",
    "        col = dp.T[c]\n",
    "        s = np.sum(col)\n",
    "        if s >= 0:\n",
    "            bc = 1\n",
    "        else:\n",
    "            bc = -1\n",
    "        bc = bc*t\n",
    "        \n",
    "        hold_idx = (col == bc).astype(int)\n",
    "        n_left = sum(hold_idx)\n",
    "        if (n_left==1):\n",
    "            k = np.nonzero(hold_idx)\n",
    "            return d[k][0]\n",
    "        dp = dp * hold_idx[:, np.newaxis]\n",
    "        \n",
    "p=[]\n",
    "for t in [1,-1]:\n",
    "    ans_arr = solve_p2(d, t)\n",
    "    ans_int = arr2int(ans_arr)\n",
    "    print(f\"{ans_arr} => {ans_int}\")\n",
    "    p.append(ans_int)\n",
    "print(p)\n",
    "np.prod(p)"
   ]
  },
  {
   "cell_type": "code",
   "execution_count": null,
   "metadata": {},
   "outputs": [],
   "source": []
  }
 ],
 "metadata": {
  "kernelspec": {
   "display_name": "Python 3",
   "language": "python",
   "name": "python3"
  },
  "language_info": {
   "codemirror_mode": {
    "name": "ipython",
    "version": 3
   },
   "file_extension": ".py",
   "mimetype": "text/x-python",
   "name": "python",
   "nbconvert_exporter": "python",
   "pygments_lexer": "ipython3",
   "version": "3.8.3"
  }
 },
 "nbformat": 4,
 "nbformat_minor": 4
}
