{
 "cells": [
  {
   "cell_type": "code",
   "execution_count": 1,
   "id": "5499953c",
   "metadata": {},
   "outputs": [],
   "source": [
    "import numpy as np\n",
    "with open('input.txt', 'r') as file:\n",
    "    data = file.read()\n",
    "\n",
    "blocks = data.split(\"\\n\\n\")\n",
    "\n",
    "draw  = np.fromstring(blocks[0],sep=',',dtype='int32')\n",
    "cards = blocks[1:]\n",
    "\n",
    "a,b = 5,5\n",
    "cards = np.fromstring( (\" \").join(cards).replace(\"\\n\", \" \"),  sep = ' ' ,dtype='int32')\n",
    "n_cards = int(len(cards)/(a*b))\n",
    "cards = cards.reshape((n_cards,b,a))\n"
   ]
  },
  {
   "cell_type": "markdown",
   "id": "549b39e9",
   "metadata": {},
   "source": [
    "# =========P1==================="
   ]
  },
  {
   "cell_type": "code",
   "execution_count": 2,
   "id": "8fce89ae",
   "metadata": {},
   "outputs": [
    {
     "name": "stdout",
     "output_type": "stream",
     "text": [
      "Winned Row: 69, 1\n",
      "Unmarked sum : 624, card :4,\n",
      " ans : 2496\n"
     ]
    }
   ],
   "source": [
    "marked = np.full(cards.shape, False, dtype=bool)\n",
    "\n",
    "card_idx = -1\n",
    "for c in draw:#[10, 16, 15,  9, 19, 2, 17, 25,24,12]:\n",
    "    marked += ( cards == c)\n",
    "    won_row = marked.sum(axis=2)==5\n",
    "    if np.any(won_row):\n",
    "        card_idx, row_idx = np.where(won_row)\n",
    "        print(f\"Winned Row: {card_idx[0]}, {row_idx[0]}\") \n",
    "        break;\n",
    "    won_col = marked.sum(axis=1)==5\n",
    "    if np.any(won_col):\n",
    "        card_idx, col_idx = np.where(won_col)\n",
    "        print(f\"Winned Col: {card_idx[0]}, {col_idx[0]}\")\n",
    "        break;\n",
    "        \n",
    "unmarked_sum = np.sum( cards[card_idx,:,:]*np.logical_not(marked[card_idx,:,:]))\n",
    "ans = c*unmarked_sum\n",
    "\n",
    "print(f\"Unmarked sum : {unmarked_sum}, card :{c},\\n ans : {ans}\")"
   ]
  },
  {
   "cell_type": "markdown",
   "id": "4180a657",
   "metadata": {},
   "source": [
    "# ========== P2 ============"
   ]
  },
  {
   "cell_type": "code",
   "execution_count": 7,
   "id": "ff43b7c0",
   "metadata": {},
   "outputs": [
    {
     "name": "stdout",
     "output_type": "stream",
     "text": [
      "Last one!\n",
      "Unmarked sum : 425, number :61,\n",
      " ans : 25925\n"
     ]
    }
   ],
   "source": [
    "cards_list = [c for c in cards]\n",
    "marked_list = [ np.full(c.shape, False, dtype=bool) for c in cards_list]\n",
    "\n",
    "\n",
    "for number in draw:\n",
    "    c_idx=0\n",
    "    while c_idx <len(cards_list):\n",
    "        marked_list[c_idx] += cards_list[c_idx]==number\n",
    "        won_row = marked_list[c_idx].sum(axis=1)==5\n",
    "        won_col = marked_list[c_idx].sum(axis=0)==5\n",
    "        if np.any(won_row) or np.any(won_col):\n",
    "            winner_idx = c_idx\n",
    "            if (len(cards_list)==1):\n",
    "                print(\"Last one!\")\n",
    "                unmarked_sum = np.sum( cards_list[0] *np.logical_not(marked_list[0]))\n",
    "                ans = number*unmarked_sum\n",
    "                print(f\"Unmarked sum : {unmarked_sum}, number :{number},\\n ans : {ans}\")\n",
    "            del  cards_list[winner_idx]\n",
    "            del marked_list[winner_idx]\n",
    "        else:\n",
    "            c_idx+=1\n",
    "    \n",
    "\n"
   ]
  }
 ],
 "metadata": {
  "kernelspec": {
   "display_name": "Python 3",
   "language": "python",
   "name": "python3"
  },
  "language_info": {
   "codemirror_mode": {
    "name": "ipython",
    "version": 3
   },
   "file_extension": ".py",
   "mimetype": "text/x-python",
   "name": "python",
   "nbconvert_exporter": "python",
   "pygments_lexer": "ipython3",
   "version": "3.8.8"
  }
 },
 "nbformat": 4,
 "nbformat_minor": 5
}
