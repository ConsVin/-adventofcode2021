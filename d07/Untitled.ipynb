{
 "cells": [
  {
   "cell_type": "markdown",
   "metadata": {},
   "source": [
    "# Brute force"
   ]
  },
  {
   "cell_type": "code",
   "execution_count": 14,
   "metadata": {},
   "outputs": [
    {
     "name": "stdout",
     "output_type": "stream",
     "text": [
      "311.0 347011.0\n"
     ]
    }
   ],
   "source": [
    "import numpy as np\n",
    "fname = 'input'\n",
    "\n",
    "crab_list = np.fromstring(open(fname,'r').read(),sep=',',dtype='int32')\n",
    "m = np.median(crab_list)\n",
    "fuel = crab_list - m\n",
    "ans = np.sum(np.abs(fuel))\n",
    "print(f\"{m} {ans}\")"
   ]
  },
  {
   "cell_type": "code",
   "execution_count": 61,
   "metadata": {},
   "outputs": [
    {
     "name": "stdout",
     "output_type": "stream",
     "text": [
      "464.0 => 98363777.0\n"
     ]
    }
   ],
   "source": [
    "import numpy as np\n",
    "\n",
    "def loss(x):\n",
    "    return (x+1)*(x/2)\n",
    "\n",
    "fname = 'input'\n",
    "crab_list = np.fromstring(open(fname,'r').read(),sep=',',dtype='int64')\n",
    "m = np.floor(np.mean(crab_list))\n",
    "steps = crab_list - m\n",
    "fuel = loss(np.abs(steps))\n",
    "ans = np.sum(fuel)\n",
    "print(f\"{m} => {ans}\")\n"
   ]
  },
  {
   "cell_type": "code",
   "execution_count": 62,
   "metadata": {},
   "outputs": [
    {
     "data": {
      "text/plain": [
       "464.567"
      ]
     },
     "execution_count": 62,
     "metadata": {},
     "output_type": "execute_result"
    }
   ],
   "source": [
    "np.mean(crab_list)"
   ]
  }
 ],
 "metadata": {
  "kernelspec": {
   "display_name": "Python 3",
   "language": "python",
   "name": "python3"
  },
  "language_info": {
   "codemirror_mode": {
    "name": "ipython",
    "version": 3
   },
   "file_extension": ".py",
   "mimetype": "text/x-python",
   "name": "python",
   "nbconvert_exporter": "python",
   "pygments_lexer": "ipython3",
   "version": "3.8.3"
  }
 },
 "nbformat": 4,
 "nbformat_minor": 5
}
