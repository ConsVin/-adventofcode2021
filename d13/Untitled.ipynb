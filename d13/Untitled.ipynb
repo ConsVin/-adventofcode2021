{
 "cells": [
  {
   "cell_type": "markdown",
   "metadata": {},
   "source": []
  },
  {
   "cell_type": "code",
   "execution_count": 21,
   "metadata": {},
   "outputs": [
    {
     "name": "stdout",
     "output_type": "stream",
     "text": [
      "[1311, 894]\n",
      "fold along x=655\n",
      "fold along y=447\n",
      "fold along x=327\n",
      "fold along y=223\n",
      "fold along x=163\n",
      "fold along y=111\n",
      "fold along x=81\n",
      "fold along y=55\n",
      "fold along x=40\n",
      "fold along y=27\n",
      "fold along y=13\n",
      "fold along y=6\n",
      "Ans : 103\n"
     ]
    }
   ],
   "source": [
    "import numpy as np\n",
    "fname = 'input'\n",
    "lines = open(fname,'r').read()\n",
    "coord, folds = [ l.split(\"\\n\") for l in lines.split(\"\\n\\n\")]\n",
    "coord = np.array([ [ int(c) for c in l.split(\",\")] for l in coord])\n",
    "n_cols,n_rows = np.amax(coord, axis=0)+1\n",
    "n_rows  = n_rows+1\n",
    "print([n_cols,n_rows-1])\n",
    "field = np.zeros((n_rows,n_cols),dtype='int8')\n",
    "for dcol, drow in coord:\n",
    "    field[drow,dcol]=1\n",
    "\n",
    "def fold(t, direction, idx):\n",
    "    if direction == 'y':\n",
    "        lhs = t[0:idx, :]\n",
    "        rhs = t[idx+1:,:][::-1,:]\n",
    "        res = (lhs+rhs) \n",
    "    elif direction=='x':\n",
    "        lhs = t[:, 0:idx]\n",
    "        rhs = t[:, idx+1:][:,::-1]\n",
    "        res = (lhs+rhs) \n",
    "    return res\n",
    "for sfold in folds:\n",
    "    print(sfold)\n",
    "    direction, sidx = sfold.split(\" \")[2].split(\"=\")\n",
    "    idx = int(sidx)\n",
    "    field = fold(field, direction, idx)\n",
    "    field[field>0]=1\n",
    "\n",
    "ans = np.sum(field)\n",
    "print(f\"Ans : {ans}\")\n"
   ]
  },
  {
   "cell_type": "code",
   "execution_count": 22,
   "metadata": {},
   "outputs": [
    {
     "data": {
      "image/png": "[encoded data removed]",
      "text/plain": [
       "<Figure size 1152x172.8 with 1 Axes>"
      ]
     },
     "metadata": {
      "needs_background": "light"
     },
     "output_type": "display_data"
    }
   ],
   "source": [
    "import matplotlib.pyplot as plt\n",
    "import numpy as np\n",
    "\n",
    "plt.matshow(field)\n",
    "plt.show()"
   ]
  },
  {
   "cell_type": "code",
   "execution_count": null,
   "metadata": {},
   "outputs": [],
   "source": []
  },
  {
   "cell_type": "code",
   "execution_count": null,
   "metadata": {},
   "outputs": [],
   "source": []
  }
 ],
 "metadata": {
  "kernelspec": {
   "display_name": "Python 3",
   "language": "python",
   "name": "python3"
  },
  "language_info": {
   "codemirror_mode": {
    "name": "ipython",
    "version": 3
   },
   "file_extension": ".py",
   "mimetype": "text/x-python",
   "name": "python",
   "nbconvert_exporter": "python",
   "pygments_lexer": "ipython3",
   "version": "3.8.3"
  }
 },
 "nbformat": 4,
 "nbformat_minor": 5
}
