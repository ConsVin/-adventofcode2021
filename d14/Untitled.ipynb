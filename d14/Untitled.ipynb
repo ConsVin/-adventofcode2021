{
 "cells": [
  {
   "cell_type": "markdown",
   "metadata": {},
   "source": []
  },
  {
   "cell_type": "code",
   "execution_count": 10,
   "metadata": {},
   "outputs": [
    {
     "name": "stdout",
     "output_type": "stream",
     "text": [
      "['C', 'N', 'B', 'P', 'H', 'F', 'B', 'O', 'P', 'C', 'S', 'P', 'K', 'O', 'F', 'N', 'H', 'V', 'K', 'V']\n",
      "[2, 2, 2, 3, 4]\n",
      "[2, 3, 6, 8, 8]\n",
      "[6, 7, 11, 12, 15]\n",
      "[11, 12, 24, 25, 33]\n",
      "[20, 24, 43, 49, 68]\n",
      "[42, 47, 74, 104, 127]\n",
      "[89, 98, 135, 192, 263]\n",
      "[186, 196, 246, 415, 526]\n",
      "[360, 402, 444, 823, 1059]\n",
      "[735, 818, 836, 1673, 2136]\n",
      "[1477, 1594, 1643, 3322, 4343]\n",
      "[2954, 3082, 3305, 6773, 8758]\n",
      "[5843, 6019, 6604, 13606, 17662]\n",
      "[11680, 11891, 13148, 27415, 35508]\n",
      "[23188, 23571, 26059, 55044, 71157]\n"
     ]
    }
   ],
   "source": [
    "import numpy as np\n",
    "fname = 'input'\n",
    "lines = open(fname,'r').read()\n",
    "template, rules_str = [ l.split(\"\\n\") for l in lines.split(\"\\n\\n\")]\n",
    "template=[c for c in template[0]]\n",
    "rules ={}\n",
    "for r in rules_str:\n",
    "    pair,insert = r.split(\" -> \")\n",
    "    rules[pair] = insert\n",
    "poly = template\n",
    "poly\n",
    "print(poly)\n",
    "for n_loops in range(15):\n",
    "    k = 0\n",
    "    t = 0\n",
    "    while (k<len(poly)-1):\n",
    "        t+=1\n",
    "        pair = ''.join([poly[k],poly[k+1]])\n",
    "        if pair in rules:\n",
    "            ins = rules[pair]\n",
    "            poly.insert(k+1, ins)\n",
    "            k+=1\n",
    "        k+=1\n",
    "    #print(''.join(poly))\n",
    "    counts = [ poly.count(l) for l in list(set(poly))]\n",
    "    counts.sort()\n",
    "    print(counts[:5])\n",
    "    ans = counts[-1]-counts[0]\n",
    "    #print(f\"{ans}\")"
   ]
  },
  {
   "cell_type": "code",
   "execution_count": 28,
   "metadata": {},
   "outputs": [
    {
     "name": "stdout",
     "output_type": "stream",
     "text": [
      "['N', 'N', 'C', 'B']\n"
     ]
    },
    {
     "ename": "KeyError",
     "evalue": "'CN'",
     "output_type": "error",
     "traceback": [
      "\u001b[0;31m---------------------------------------------------------------------------\u001b[0m",
      "\u001b[0;31mKeyError\u001b[0m                                  Traceback (most recent call last)",
      "\u001b[0;32m<ipython-input-28-2c09082adbfa>\u001b[0m in \u001b[0;36m<module>\u001b[0;34m\u001b[0m\n\u001b[1;32m     28\u001b[0m         \u001b[0mpoly_pairs_count\u001b[0m\u001b[0;34m[\u001b[0m\u001b[0mp\u001b[0m\u001b[0;34m]\u001b[0m\u001b[0;34m-=\u001b[0m\u001b[0;36m1\u001b[0m\u001b[0;34m\u001b[0m\u001b[0;34m\u001b[0m\u001b[0m\n\u001b[1;32m     29\u001b[0m         \u001b[0mpoly_pairs_count\u001b[0m\u001b[0;34m[\u001b[0m\u001b[0ml\u001b[0m\u001b[0;34m]\u001b[0m\u001b[0;34m+=\u001b[0m\u001b[0;36m1\u001b[0m\u001b[0;34m\u001b[0m\u001b[0;34m\u001b[0m\u001b[0m\n\u001b[0;32m---> 30\u001b[0;31m         \u001b[0mpoly_pairs_count\u001b[0m\u001b[0;34m[\u001b[0m\u001b[0mr\u001b[0m\u001b[0;34m]\u001b[0m\u001b[0;34m+=\u001b[0m\u001b[0;36m1\u001b[0m\u001b[0;34m\u001b[0m\u001b[0;34m\u001b[0m\u001b[0m\n\u001b[0m\u001b[1;32m     31\u001b[0m \u001b[0;34m\u001b[0m\u001b[0m\n\u001b[1;32m     32\u001b[0m \u001b[0mpoly_pairs_count\u001b[0m\u001b[0;34m\u001b[0m\u001b[0;34m\u001b[0m\u001b[0m\n",
      "\u001b[0;31mKeyError\u001b[0m: 'CN'"
     ]
    }
   ],
   "source": [
    "import numpy as np\n",
    "fname = 'sample'\n",
    "lines = open(fname,'r').read()\n",
    "template, rules_str = [ l.split(\"\\n\") for l in lines.split(\"\\n\\n\")]\n",
    "template=[c for c in template[0]]\n",
    "rules ={}\n",
    "for r in rules_str:\n",
    "    pair,insert = r.split(\" -> \")\n",
    "    rules[pair] = insert\n",
    "poly = template\n",
    "print(poly)\n",
    "\n",
    "poly_pairs_count = {}\n",
    "for k in range(len(poly)-1):\n",
    "    pair = ''.join([poly[k],poly[k+1]])\n",
    "    if pair in poly_pairs_count:\n",
    "        poly_pairs_count[pair]+=1\n",
    "    else:\n",
    "        poly_pairs_count[pair]=1\n",
    "for n_loops in range(3):\n",
    "    command = []\n",
    "    for pair in poly_pairs_count:\n",
    "        ins     = rules[pair]\n",
    "        p_left  = pair[0] + ins\n",
    "        p_right = ins   + pair[1]\n",
    "        command.append([pair, p_left, p_right])\n",
    "    for p,l,r in command:\n",
    "        poly_pairs_count[p]-=1\n",
    "        poly_pairs_count[l]+=1\n",
    "        poly_pairs_count[r]+=1\n",
    "    \n",
    "poly_pairs_count\n",
    "    \n",
    "    "
   ]
  },
  {
   "cell_type": "code",
   "execution_count": 21,
   "metadata": {},
   "outputs": [
    {
     "name": "stdout",
     "output_type": "stream",
     "text": [
      "{1: 99}\n",
      "{1: 99}\n"
     ]
    }
   ],
   "source": [
    "d_a = {1:42}\n",
    "\n",
    "d_b = d_a\n",
    "d_b[1]=99\n",
    "print(d_a)\n",
    "print(d_b)"
   ]
  },
  {
   "cell_type": "code",
   "execution_count": null,
   "metadata": {},
   "outputs": [],
   "source": []
  }
 ],
 "metadata": {
  "kernelspec": {
   "display_name": "Python 3",
   "language": "python",
   "name": "python3"
  },
  "language_info": {
   "codemirror_mode": {
    "name": "ipython",
    "version": 3
   },
   "file_extension": ".py",
   "mimetype": "text/x-python",
   "name": "python",
   "nbconvert_exporter": "python",
   "pygments_lexer": "ipython3",
   "version": "3.8.3"
  }
 },
 "nbformat": 4,
 "nbformat_minor": 5
}
